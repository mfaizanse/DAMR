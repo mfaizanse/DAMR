{
 "cells": [
  {
   "cell_type": "markdown",
   "metadata": {},
   "source": [
    "Code to capture the stereo images for calibration using matlab or opencv."
   ]
  },
  {
   "cell_type": "code",
   "execution_count": 1,
   "metadata": {},
   "outputs": [],
   "source": [
    "import pyrealsense2 as rs\n",
    "import numpy as np\n",
    "import cv2"
   ]
  },
  {
   "cell_type": "code",
   "execution_count": 2,
   "metadata": {},
   "outputs": [
    {
     "name": "stdout",
     "output_type": "stream",
     "text": [
      "Calibration [3, 0, 25, 0, 240, 1, 0, 0, 1, 4, 0, 4, 32, 242, 123, 182, 237, 170, 0, 63, 119, 202, 77, 63, 59, 149, 255, 62, 223, 190, 0, 63, 229, 69, 101, 189, 206, 55, 133, 61, 102, 239, 81, 58, 19, 210, 127, 186, 231, 53, 172, 188, 170, 244, 255, 62, 141, 177, 76, 63, 168, 97, 255, 62, 31, 221, 3, 63, 36, 40, 105, 189, 208, 78, 139, 61, 157, 129, 99, 58, 62, 140, 53, 56, 219, 64, 180, 188, 214, 255, 127, 63, 123, 197, 232, 58, 243, 9, 181, 58, 248, 5, 233, 186, 213, 255, 127, 63, 235, 97, 182, 58, 234, 182, 180, 186, 49, 180, 182, 186, 224, 255, 127, 63, 180, 255, 127, 63, 96, 12, 185, 185, 248, 138, 67, 59, 153, 128, 187, 57, 85, 0, 128, 63, 133, 98, 205, 186, 15, 129, 67, 187, 113, 103, 205, 58, 224, 254, 127, 63, 229, 4, 71, 194, 1, 0, 0, 0, 0, 0, 0, 0, 0, 0, 0, 0, 0, 0, 0, 0, 0, 0, 0, 0, 0, 0, 0, 0, 0, 0, 0, 0, 0, 0, 0, 0, 0, 0, 0, 0, 0, 0, 0, 0, 0, 0, 0, 0, 0, 0, 0, 0, 0, 0, 0, 0, 0, 0, 0, 0, 0, 0, 0, 0, 0, 0, 0, 0, 0, 0, 0, 0, 0, 0, 0, 0, 0, 0, 0, 0, 0, 0, 0, 0, 0, 0, 0, 0, 0, 0, 0, 0, 0, 0, 0, 0, 127, 174, 112, 68, 127, 174, 112, 68, 135, 43, 112, 68, 193, 84, 9, 68, 85, 116, 32, 68, 85, 116, 32, 68, 5, 29, 32, 68, 17, 25, 183, 67, 153, 139, 192, 67, 153, 139, 192, 67, 211, 34, 160, 67, 206, 186, 115, 67, 35, 154, 212, 67, 35, 154, 212, 67, 115, 38, 212, 67, 67, 30, 116, 67, 85, 116, 160, 67, 85, 116, 160, 67, 5, 29, 160, 67, 171, 27, 55, 67, 35, 154, 84, 67, 35, 154, 84, 67, 115, 38, 84, 67, 67, 30, 244, 66, 153, 139, 64, 67, 153, 139, 64, 67, 211, 34, 32, 67, 206, 186, 243, 66, 127, 174, 112, 67, 127, 174, 112, 67, 135, 43, 112, 67, 193, 84, 9, 67, 85, 116, 32, 68, 85, 116, 32, 68, 5, 29, 32, 68, 171, 27, 203, 67, 127, 174, 240, 67, 127, 174, 240, 67, 135, 43, 240, 67, 193, 84, 137, 67, 0, 0, 0, 0, 0, 0, 0, 0, 0, 0, 0, 0, 0, 0, 0, 0, 0, 0, 0, 0, 0, 0, 0, 0, 0, 0, 0, 0, 0, 0, 0, 0, 0, 0, 0, 0, 0, 0, 0, 0, 0, 0, 0, 0, 0, 0, 0, 0, 0, 0, 0, 0, 0, 0, 0, 0, 0, 0, 0, 0, 0, 0, 0, 0, 0, 0, 0, 0, 0, 0, 0, 0, 0, 0, 0, 0, 0, 0, 0, 0, 0, 0, 0, 0, 0, 0, 0, 0, 0, 0, 0, 0, 0, 0, 0, 0]\n"
     ]
    }
   ],
   "source": [
    "pipeline = rs.pipeline()\n",
    "config = rs.config()\n",
    "\n",
    "config.enable_stream(rs.stream.depth, 256, 144, rs.format.z16, 90)\n",
    "\n",
    "conf = pipeline.start(config)\n",
    "calib_dev = rs.auto_calibrated_device(conf.get_device())\n",
    "\n",
    "calib = calib_dev.get_calibration_table()\n",
    "# print(\"Calibration\", calib)\n",
    "\n",
    "pipeline.stop()"
   ]
  },
  {
   "cell_type": "code",
   "execution_count": 2,
   "metadata": {},
   "outputs": [],
   "source": [
    "# focal_length = 942.8       # lense focal length, 1.88mm, 942.8 ???\n",
    "# baseline = 55   # distance in mm between the two cameras\n",
    "# units = 0.512     # depth units, adjusted for the output to fit in one byte"
   ]
  },
  {
   "cell_type": "code",
   "execution_count": null,
   "metadata": {
    "scrolled": true
   },
   "outputs": [
    {
     "name": "stdout",
     "output_type": "stream",
     "text": [
      "laser power =  0.0\n",
      "laser power range =  0.0 ~ 360.0\n"
     ]
    }
   ],
   "source": [
    "# # Configure depth and color streams\n",
    "# pipeline = rs.pipeline()\n",
    "# config = rs.config()\n",
    "\n",
    "# res_x = 1280\n",
    "# res_y = 800\n",
    "# frame_rate = 25\n",
    "\n",
    "# # config.enable_stream(rs.stream.depth, res_x, res_y, rs.format.z16, frame_rate)\n",
    "# # config.enable_stream(rs.stream.color, res_x, res_y, rs.format.bgr8, frame_rate)\n",
    "\n",
    "# # y16 provides unrectified images format, works for 1280x800 at 25fps\n",
    "# config.enable_stream(rs.stream.infrared, 1, res_x, res_y, rs.format.y16, frame_rate)\n",
    "# config.enable_stream(rs.stream.infrared, 2, res_x, res_y, rs.format.y16, frame_rate)\n",
    "\n",
    "# # Start streaming\n",
    "# pipeline_profile = pipeline.start(config)\n",
    "\n",
    "# ## To set laser on/off or set laser power\n",
    "# device = pipeline_profile.get_device()\n",
    "# depth_sensor = device.query_sensors()[0]\n",
    "# laser_pwr = depth_sensor.get_option(rs.option.laser_power)\n",
    "# print(\"laser power = \", laser_pwr)\n",
    "# laser_range = depth_sensor.get_option_range(rs.option.laser_power)\n",
    "# print(\"laser power range = \" , laser_range.min , \"~\", laser_range.max)\n",
    "# depth_sensor.set_option(rs.option.laser_power, 0)\n",
    "\n",
    "# directory = r'./outputs/'\n",
    "# img_count = 1\n",
    "\n",
    "# try:\n",
    "#     while True:\n",
    "#         # Wait for a coherent pair of frames: depth and color\n",
    "#         frames = pipeline.wait_for_frames()\n",
    "# #         depth_frame = frames.get_depth_frame()\n",
    "# #         color_frame = frames.get_color_frame()\n",
    "#         ir1_frame = frames.get_infrared_frame(1) # Left IR Camera, it allows 0, 1 or no input\n",
    "#         ir2_frame = frames.get_infrared_frame(2) # Right IR camera\n",
    "\n",
    "#         if not ir1_frame or not ir2_frame:\n",
    "#             continue\n",
    "\n",
    "#         ir1_image = np.asanyarray(ir1_frame.get_data())\n",
    "#         ir2_image = np.asanyarray(ir2_frame.get_data())\n",
    "        \n",
    "# #         print(cv2.convertScaleAbs(ir1_image))\n",
    "# #         print(ir1_image.shape)\n",
    "# #         print(ir2_image.shape)\n",
    "# #         print(ir1_image.dtype)\n",
    "# #         print(ir2_image.dtype)\n",
    "\n",
    "#         ir_images = np.hstack((ir1_image, ir2_image))\n",
    "\n",
    "#         cv2.namedWindow('IRSense', cv2.WINDOW_AUTOSIZE)\n",
    "#         cv2.imshow('IRSense', ir_images)\n",
    "\n",
    "#         key = cv2.waitKey(1)\n",
    "#         # Press esc or 'q' to close the image window\n",
    "#         if key & 0xFF == ord('q') or key == 27:\n",
    "#             cv2.destroyAllWindows()\n",
    "#             break\n",
    "#         if key == 116:\n",
    "#             cv2.imwrite(directory + str(img_count) + '_left.jpg', ir1_image)\n",
    "#             cv2.imwrite(directory + str(img_count) + '_right.jpg', ir2_image)\n",
    "#             img_count = img_count+1\n",
    "\n",
    "# finally:\n",
    "\n",
    "#     # Stop streaming\n",
    "#     pipeline.stop()"
   ]
  },
  {
   "cell_type": "code",
   "execution_count": null,
   "metadata": {},
   "outputs": [],
   "source": []
  }
 ],
 "metadata": {
  "kernelspec": {
   "display_name": "Python 3",
   "language": "python",
   "name": "python3"
  },
  "language_info": {
   "codemirror_mode": {
    "name": "ipython",
    "version": 3
   },
   "file_extension": ".py",
   "mimetype": "text/x-python",
   "name": "python",
   "nbconvert_exporter": "python",
   "pygments_lexer": "ipython3",
   "version": "3.7.7"
  }
 },
 "nbformat": 4,
 "nbformat_minor": 4
}
